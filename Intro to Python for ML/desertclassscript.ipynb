{
  "cells": [
    {
      "cell_type": "code",
      "source": [
        "#Init Image Transformation\r\n",
        "python -m azureml.designer.modules.computer_vision.transform.init_image_transformation.init_image_transformation --output-path DatasetOutputConfig:Output_image_transformation --resize=True --size=256 --center-crop=True --crop-size=224 --pad=False --color-jitter=False --grayscale=False --random-resized-crop=False --random-crop=False --random-horizontal-flip=True --random-vertical-flip=False --random-rotation=False --random-affine=False --random-grayscale=False --random-perspective=False"
      ],
      "outputs": [],
      "execution_count": null,
      "metadata": {}
    },
    {
      "cell_type": "code",
      "source": [
        "#DenseNet\r\n",
        "python -m azureml.designer.modules.dl.pytorch.initialize_models.vision.classification.densenet --untrained-model-path DatasetOutputConfig:Untrained_model --model-name=densenet201 --pretrained=True --memory-efficient=False"
      ],
      "outputs": [],
      "execution_count": null,
      "metadata": {
        "jupyter": {
          "source_hidden": false,
          "outputs_hidden": false
        },
        "nteract": {
          "transient": {
            "deleting": false
          }
        }
      }
    },
    {
      "cell_type": "code",
      "source": [
        "#Convert to Image Directory\r\n",
        "python -m azureml.designer.modules.computer_vision.preprocess.convert_to_image_directory.convert_to_image_directory --output-path DatasetOutputConfig:Output_image_directory --input-path=$AZUREML_DATAREFERENCE_Input_dataset"
      ],
      "outputs": [],
      "execution_count": null,
      "metadata": {
        "jupyter": {
          "source_hidden": false,
          "outputs_hidden": false
        },
        "nteract": {
          "transient": {
            "deleting": false
          }
        }
      }
    },
    {
      "cell_type": "code",
      "source": [
        "#Split Image Directory 0\r\n",
        "python -m azureml.designer.modules.computer_vision.preprocess.split_image_directory.split_image_directory --tgt-train-path DatasetOutputConfig:Output_image_directory1 --tgt-test-path DatasetOutputConfig:Output_image_directory2 --src-path=$AZUREML_DATAREFERENCE_Input_image_directory --fraction=0.9"
      ],
      "outputs": [],
      "execution_count": null,
      "metadata": {
        "jupyter": {
          "source_hidden": false,
          "outputs_hidden": false
        },
        "nteract": {
          "transient": {
            "deleting": false
          }
        }
      }
    },
    {
      "cell_type": "code",
      "source": [
        "#Split Image Directory 1\r\n",
        "python -m azureml.designer.modules.computer_vision.preprocess.split_image_directory.split_image_directory --tgt-train-path DatasetOutputConfig:Output_image_directory1 --tgt-test-path DatasetOutputConfig:Output_image_directory2 --src-path=$AZUREML_DATAREFERENCE_Input_image_directory --fraction=0.9"
      ],
      "outputs": [],
      "execution_count": null,
      "metadata": {
        "jupyter": {
          "source_hidden": false,
          "outputs_hidden": false
        },
        "nteract": {
          "transient": {
            "deleting": false
          }
        }
      }
    },
    {
      "cell_type": "code",
      "source": [
        "#Apply Image Transformation 0\r\n",
        "python -m azureml.designer.modules.computer_vision.transform.apply_image_transformation.apply_image_transformation --output-path DatasetOutputConfig:Output_image_directory --input-image-transform-path=$AZUREML_DATAREFERENCE_Input_image_transformation --input-image-dir-path=$AZUREML_DATAREFERENCE_Input_image_directory --mode=%22For+training%22"
      ],
      "outputs": [],
      "execution_count": null,
      "metadata": {
        "jupyter": {
          "source_hidden": false,
          "outputs_hidden": false
        },
        "nteract": {
          "transient": {
            "deleting": false
          }
        }
      }
    },
    {
      "cell_type": "code",
      "source": [
        "#Apply Image Transformation 1\r\n",
        "python -m azureml.designer.modules.computer_vision.transform.apply_image_transformation.apply_image_transformation --output-path DatasetOutputConfig:Output_image_directory --input-image-transform-path=$AZUREML_DATAREFERENCE_Input_image_transformation --input-image-dir-path=$AZUREML_DATAREFERENCE_Input_image_directory --mode=%22For+inference%22"
      ],
      "outputs": [],
      "execution_count": null,
      "metadata": {
        "jupyter": {
          "source_hidden": false,
          "outputs_hidden": false
        },
        "nteract": {
          "transient": {
            "deleting": false
          }
        }
      }
    },
    {
      "cell_type": "code",
      "source": [
        "#Apply Image Transformation 2\r\n",
        "python -m azureml.designer.modules.computer_vision.transform.apply_image_transformation.apply_image_transformation --output-path DatasetOutputConfig:Output_image_directory --input-image-transform-path=$AZUREML_DATAREFERENCE_Input_image_transformation --input-image-dir-path=$AZUREML_DATAREFERENCE_Input_image_directory --mode=%22For+inference%22"
      ],
      "outputs": [],
      "execution_count": null,
      "metadata": {
        "jupyter": {
          "source_hidden": false,
          "outputs_hidden": false
        },
        "nteract": {
          "transient": {
            "deleting": false
          }
        }
      }
    },
    {
      "cell_type": "code",
      "source": [
        "#Train PyTorch Model\r\n",
        "python -m azureml.designer.modules.dl.pytorch.train.train_pytorch_model --trained-model-path DatasetOutputConfig:Trained_model --untrained-model-path=$AZUREML_DATAREFERENCE_Untrained_model --train-data-path=$AZUREML_DATAREFERENCE_Training_dataset --valid-data-path=$AZUREML_DATAREFERENCE_Validation_dataset --epochs=2 --batch-size=4 --learning-rate=0.001 --random-seed=1 --patience=3"
      ],
      "outputs": [],
      "execution_count": null,
      "metadata": {
        "jupyter": {
          "source_hidden": false,
          "outputs_hidden": false
        },
        "nteract": {
          "transient": {
            "deleting": false
          }
        }
      }
    },
    {
      "cell_type": "code",
      "source": [
        "#Score Image Model\r\n",
        "python -m azureml.designer.modules.dl.pytorch.score.score_image_model.module_invoker --scored-dataset DatasetOutputConfig:Scored_dataset --trained-model=$AZUREML_DATAREFERENCE_Trained_model --dataset=$AZUREML_DATAREFERENCE_Dataset"
      ],
      "outputs": [],
      "execution_count": null,
      "metadata": {
        "jupyter": {
          "source_hidden": false,
          "outputs_hidden": false
        },
        "nteract": {
          "transient": {
            "deleting": false
          }
        }
      }
    },
    {
      "cell_type": "code",
      "source": [
        "#Evaluate Model\r\n",
        "python -m azureml.studio.modulehost.module_invoker --module-name=azureml.studio.modules.ml.evaluate.evaluate_generic_module.evaluate_generic_module --evaluation-results DatasetOutputConfig:Evaluation_results --scored-dataset=$AZUREML_DATAREFERENCE_Scored_dataset"
      ],
      "outputs": [],
      "execution_count": null,
      "metadata": {
        "jupyter": {
          "source_hidden": false,
          "outputs_hidden": false
        },
        "nteract": {
          "transient": {
            "deleting": false
          }
        }
      }
    },
    {
      "cell_type": "code",
      "source": [
        "#Look at Confusion Matrix for False Positive Percentages for each class"
      ],
      "outputs": [],
      "execution_count": null,
      "metadata": {
        "jupyter": {
          "source_hidden": false,
          "outputs_hidden": false
        },
        "nteract": {
          "transient": {
            "deleting": false
          }
        }
      }
    }
  ],
  "metadata": {
    "kernelspec": {
      "display_name": "Python 3.8 - AzureML",
      "language": "python",
      "name": "python38-azureml"
    },
    "language_info": {
      "codemirror_mode": {
        "name": "ipython",
        "version": 3
      },
      "file_extension": ".py",
      "mimetype": "text/x-python",
      "name": "python",
      "nbconvert_exporter": "python",
      "pygments_lexer": "ipython3",
      "version": "3.8.1"
    },
    "nteract": {
      "version": "nteract-front-end@1.0.0"
    }
  },
  "nbformat": 4,
  "nbformat_minor": 2
}